{
  "nbformat": 4,
  "nbformat_minor": 0,
  "metadata": {
    "colab": {
      "name": "cnn_fashion_mnist.ipynb",
      "provenance": [],
      "collapsed_sections": []
    },
    "kernelspec": {
      "name": "python3",
      "display_name": "Python 3"
    }
  },
  "cells": [
    {
      "cell_type": "code",
      "metadata": {
        "id": "IcGp0Ly-wCLh",
        "outputId": "b531bd90-77c7-44ed-96d7-e8ef152d2e42",
        "colab": {
          "base_uri": "https://localhost:8080/",
          "height": 67
        }
      },
      "source": [
        "!pip uninstall -y tensorflow\n",
        "!pip uninstall -y tensorflow-gpu\n",
        "!pip install -q tensorflow-gpu==2.0.0-beta1"
      ],
      "execution_count": 1,
      "outputs": [
        {
          "output_type": "stream",
          "text": [
            "\u001b[33mWARNING: Skipping tensorflow as it is not installed.\u001b[0m\n",
            "Uninstalling tensorflow-gpu-2.0.0b1:\n",
            "  Successfully uninstalled tensorflow-gpu-2.0.0b1\n"
          ],
          "name": "stdout"
        }
      ]
    },
    {
      "cell_type": "code",
      "metadata": {
        "id": "s3IZG460w4ph",
        "outputId": "ffa378d2-2ef7-49ec-e5a1-856a400f2ae6",
        "colab": {
          "base_uri": "https://localhost:8080/",
          "height": 457
        }
      },
      "source": [
        "import tensorflow as tf\n",
        "print(tf.__version__)"
      ],
      "execution_count": 2,
      "outputs": [
        {
          "output_type": "stream",
          "text": [
            "/usr/local/lib/python3.6/dist-packages/tensorflow/python/framework/dtypes.py:516: FutureWarning: Passing (type, 1) or '1type' as a synonym of type is deprecated; in a future version of numpy, it will be understood as (type, (1,)) / '(1,)type'.\n",
            "  _np_qint8 = np.dtype([(\"qint8\", np.int8, 1)])\n",
            "/usr/local/lib/python3.6/dist-packages/tensorflow/python/framework/dtypes.py:517: FutureWarning: Passing (type, 1) or '1type' as a synonym of type is deprecated; in a future version of numpy, it will be understood as (type, (1,)) / '(1,)type'.\n",
            "  _np_quint8 = np.dtype([(\"quint8\", np.uint8, 1)])\n",
            "/usr/local/lib/python3.6/dist-packages/tensorflow/python/framework/dtypes.py:518: FutureWarning: Passing (type, 1) or '1type' as a synonym of type is deprecated; in a future version of numpy, it will be understood as (type, (1,)) / '(1,)type'.\n",
            "  _np_qint16 = np.dtype([(\"qint16\", np.int16, 1)])\n",
            "/usr/local/lib/python3.6/dist-packages/tensorflow/python/framework/dtypes.py:519: FutureWarning: Passing (type, 1) or '1type' as a synonym of type is deprecated; in a future version of numpy, it will be understood as (type, (1,)) / '(1,)type'.\n",
            "  _np_quint16 = np.dtype([(\"quint16\", np.uint16, 1)])\n",
            "/usr/local/lib/python3.6/dist-packages/tensorflow/python/framework/dtypes.py:520: FutureWarning: Passing (type, 1) or '1type' as a synonym of type is deprecated; in a future version of numpy, it will be understood as (type, (1,)) / '(1,)type'.\n",
            "  _np_qint32 = np.dtype([(\"qint32\", np.int32, 1)])\n",
            "/usr/local/lib/python3.6/dist-packages/tensorflow/python/framework/dtypes.py:525: FutureWarning: Passing (type, 1) or '1type' as a synonym of type is deprecated; in a future version of numpy, it will be understood as (type, (1,)) / '(1,)type'.\n",
            "  np_resource = np.dtype([(\"resource\", np.ubyte, 1)])\n"
          ],
          "name": "stderr"
        },
        {
          "output_type": "stream",
          "text": [
            "2.0.0-beta1\n"
          ],
          "name": "stdout"
        },
        {
          "output_type": "stream",
          "text": [
            "/usr/local/lib/python3.6/dist-packages/tensorboard/compat/tensorflow_stub/dtypes.py:541: FutureWarning: Passing (type, 1) or '1type' as a synonym of type is deprecated; in a future version of numpy, it will be understood as (type, (1,)) / '(1,)type'.\n",
            "  _np_qint8 = np.dtype([(\"qint8\", np.int8, 1)])\n",
            "/usr/local/lib/python3.6/dist-packages/tensorboard/compat/tensorflow_stub/dtypes.py:542: FutureWarning: Passing (type, 1) or '1type' as a synonym of type is deprecated; in a future version of numpy, it will be understood as (type, (1,)) / '(1,)type'.\n",
            "  _np_quint8 = np.dtype([(\"quint8\", np.uint8, 1)])\n",
            "/usr/local/lib/python3.6/dist-packages/tensorboard/compat/tensorflow_stub/dtypes.py:543: FutureWarning: Passing (type, 1) or '1type' as a synonym of type is deprecated; in a future version of numpy, it will be understood as (type, (1,)) / '(1,)type'.\n",
            "  _np_qint16 = np.dtype([(\"qint16\", np.int16, 1)])\n",
            "/usr/local/lib/python3.6/dist-packages/tensorboard/compat/tensorflow_stub/dtypes.py:544: FutureWarning: Passing (type, 1) or '1type' as a synonym of type is deprecated; in a future version of numpy, it will be understood as (type, (1,)) / '(1,)type'.\n",
            "  _np_quint16 = np.dtype([(\"quint16\", np.uint16, 1)])\n",
            "/usr/local/lib/python3.6/dist-packages/tensorboard/compat/tensorflow_stub/dtypes.py:545: FutureWarning: Passing (type, 1) or '1type' as a synonym of type is deprecated; in a future version of numpy, it will be understood as (type, (1,)) / '(1,)type'.\n",
            "  _np_qint32 = np.dtype([(\"qint32\", np.int32, 1)])\n",
            "/usr/local/lib/python3.6/dist-packages/tensorboard/compat/tensorflow_stub/dtypes.py:550: FutureWarning: Passing (type, 1) or '1type' as a synonym of type is deprecated; in a future version of numpy, it will be understood as (type, (1,)) / '(1,)type'.\n",
            "  np_resource = np.dtype([(\"resource\", np.ubyte, 1)])\n"
          ],
          "name": "stderr"
        }
      ]
    },
    {
      "cell_type": "code",
      "metadata": {
        "id": "7SW1BhzR5ypF",
        "outputId": "010a9e07-f74d-4a4c-bd33-e1312cfb42fc",
        "colab": {
          "base_uri": "https://localhost:8080/",
          "height": 34
        }
      },
      "source": [
        "import numpy as np\n",
        "import matplotlib.pyplot as plt\n",
        "from tensorflow.keras.layers import Input, Conv2D, Dense, Flatten, Dropout\n",
        "from tensorflow.keras.models import Model\n",
        "\n",
        "fashion_mnist = tf.keras.datasets.fashion_mnist\n",
        "(x_train,y_train), (x_test,y_test) = fashion_mnist.load_data()\n",
        "x_train, x_test = x_train/255.0 , x_test/255.0\n",
        "print(\"x_Train.shape = %s\",x_train.shape)"
      ],
      "execution_count": 7,
      "outputs": [
        {
          "output_type": "stream",
          "text": [
            "x_Train.shape = %s (60000, 28, 28)\n"
          ],
          "name": "stdout"
        }
      ]
    },
    {
      "cell_type": "code",
      "metadata": {
        "id": "S28HOI35NhTl",
        "outputId": "8e7e7bc7-087e-412a-dae7-a4a8f83c3d06",
        "colab": {
          "base_uri": "https://localhost:8080/",
          "height": 50
        }
      },
      "source": [
        "x_train = np.expand_dims(x_train,-1)\n",
        "x_test = np.expand_dims(x_test,-1)\n",
        "print(\"x_Train.shape = %s\",x_train.shape)\n",
        "K = len(set(y_train))\n",
        "print(\"No of CATEGORIES = %s\",K)"
      ],
      "execution_count": 8,
      "outputs": [
        {
          "output_type": "stream",
          "text": [
            "x_Train.shape = %s (60000, 28, 28, 1)\n",
            "No of CATEGORIES = %s 10\n"
          ],
          "name": "stdout"
        }
      ]
    },
    {
      "cell_type": "code",
      "metadata": {
        "id": "Unqhgrk4TjWO"
      },
      "source": [
        "i= Input(shape=x_train[0].shape)\n",
        "x= Conv2D(32, (3, 3), strides=2,activation='relu')(i)\n",
        "x= Conv2D(64, (3, 3), strides=2,activation='relu')(x)\n",
        "x= Conv2D(128, (3, 3), strides=2,activation='relu')(x)\n",
        "x = Flatten()(x)\n",
        "x = Dropout(0.2)(x)\n",
        "x = Dense(512,activation='relu')(x)\n",
        "x = Dropout(0.2)(x)\n",
        "x = Dense(K, activation='softmax')(x)\n",
        "model = Model(i,x)\n"
      ],
      "execution_count": 9,
      "outputs": []
    },
    {
      "cell_type": "code",
      "metadata": {
        "id": "nydGZEdyZANv",
        "outputId": "c026e27d-20fe-4bbf-db2e-f9c62bc54664",
        "colab": {
          "base_uri": "https://localhost:8080/",
          "height": 538
        }
      },
      "source": [
        "model.compile(optimizer='adam',\n",
        "              loss='sparse_categorical_crossentropy',\n",
        "              metrics=['accuracy'])\n",
        "r = model.fit(x_train, y_train, validation_data=(x_test,y_test), epochs=15)"
      ],
      "execution_count": 11,
      "outputs": [
        {
          "output_type": "stream",
          "text": [
            "Train on 60000 samples, validate on 10000 samples\n",
            "Epoch 1/15\n",
            "60000/60000 [==============================] - 31s 509us/sample - loss: 0.4394 - accuracy: 0.8364 - val_loss: 0.4063 - val_accuracy: 0.8465\n",
            "Epoch 2/15\n",
            "60000/60000 [==============================] - 30s 503us/sample - loss: 0.3449 - accuracy: 0.8684 - val_loss: 0.3404 - val_accuracy: 0.8708\n",
            "Epoch 3/15\n",
            "60000/60000 [==============================] - 30s 503us/sample - loss: 0.3028 - accuracy: 0.8843 - val_loss: 0.3129 - val_accuracy: 0.8846\n",
            "Epoch 4/15\n",
            "60000/60000 [==============================] - 31s 511us/sample - loss: 0.2701 - accuracy: 0.8978 - val_loss: 0.3090 - val_accuracy: 0.8889\n",
            "Epoch 5/15\n",
            "60000/60000 [==============================] - 32s 532us/sample - loss: 0.2481 - accuracy: 0.9050 - val_loss: 0.2997 - val_accuracy: 0.8876\n",
            "Epoch 6/15\n",
            "60000/60000 [==============================] - 32s 530us/sample - loss: 0.2263 - accuracy: 0.9143 - val_loss: 0.3177 - val_accuracy: 0.8897\n",
            "Epoch 7/15\n",
            "60000/60000 [==============================] - 34s 570us/sample - loss: 0.2080 - accuracy: 0.9211 - val_loss: 0.3311 - val_accuracy: 0.8856\n",
            "Epoch 8/15\n",
            "60000/60000 [==============================] - 37s 611us/sample - loss: 0.1915 - accuracy: 0.9255 - val_loss: 0.3098 - val_accuracy: 0.8931\n",
            "Epoch 9/15\n",
            "60000/60000 [==============================] - 31s 516us/sample - loss: 0.1778 - accuracy: 0.9325 - val_loss: 0.3138 - val_accuracy: 0.8933\n",
            "Epoch 10/15\n",
            "60000/60000 [==============================] - 31s 513us/sample - loss: 0.1669 - accuracy: 0.9366 - val_loss: 0.3172 - val_accuracy: 0.8975\n",
            "Epoch 11/15\n",
            "60000/60000 [==============================] - 31s 513us/sample - loss: 0.1564 - accuracy: 0.9394 - val_loss: 0.3288 - val_accuracy: 0.8975\n",
            "Epoch 12/15\n",
            "60000/60000 [==============================] - 31s 513us/sample - loss: 0.1465 - accuracy: 0.9442 - val_loss: 0.3330 - val_accuracy: 0.8991\n",
            "Epoch 13/15\n",
            "60000/60000 [==============================] - 31s 515us/sample - loss: 0.1368 - accuracy: 0.9477 - val_loss: 0.3353 - val_accuracy: 0.9013\n",
            "Epoch 14/15\n",
            "60000/60000 [==============================] - 31s 510us/sample - loss: 0.1296 - accuracy: 0.9501 - val_loss: 0.3558 - val_accuracy: 0.8957\n",
            "Epoch 15/15\n",
            "60000/60000 [==============================] - 31s 512us/sample - loss: 0.1230 - accuracy: 0.9529 - val_loss: 0.3859 - val_accuracy: 0.8946\n"
          ],
          "name": "stdout"
        }
      ]
    },
    {
      "cell_type": "code",
      "metadata": {
        "id": "a0KCnfqfbij0",
        "outputId": "4035cba3-f1b5-4e93-f026-166f19892d85",
        "colab": {
          "base_uri": "https://localhost:8080/",
          "height": 283
        }
      },
      "source": [
        "import matplotlib.pyplot as plt\n",
        "plt.plot(r.history['loss'],label='loss')\n",
        "plt.plot(r.history['val_loss'],label='val_loss')\n",
        "plt.legend()\n"
      ],
      "execution_count": 13,
      "outputs": [
        {
          "output_type": "execute_result",
          "data": {
            "text/plain": [
              "<matplotlib.legend.Legend at 0x7fb9edad9438>"
            ]
          },
          "metadata": {
            "tags": []
          },
          "execution_count": 13
        },
        {
          "output_type": "display_data",
          "data": {
            "image/png": "[encoded data removed]",
            "text/plain": [
              "<Figure size 432x288 with 1 Axes>"
            ]
          },
          "metadata": {
            "tags": [],
            "needs_background": "light"
          }
        }
      ]
    },
    {
      "cell_type": "code",
      "metadata": {
        "id": "gmzliqFrl0yZ",
        "outputId": "aa96f933-bf0d-4c54-a32e-e2cf819ac840",
        "colab": {
          "base_uri": "https://localhost:8080/",
          "height": 282
        }
      },
      "source": [
        "plt.plot(r.history['accuracy'],label='accuracy')\n",
        "plt.plot(r.history['val_accuracy'],label='val_accuracy')\n",
        "plt.legend()"
      ],
      "execution_count": 15,
      "outputs": [
        {
          "output_type": "execute_result",
          "data": {
            "text/plain": [
              "<matplotlib.legend.Legend at 0x7fb9ecc73240>"
            ]
          },
          "metadata": {
            "tags": []
          },
          "execution_count": 15
        },
        {
          "output_type": "display_data",
          "data": {
            "image/png": "[encoded data removed]",
            "text/plain": [
              "<Figure size 432x288 with 1 Axes>"
            ]
          },
          "metadata": {
            "tags": [],
            "needs_background": "light"
          }
        }
      ]
    },
    {
      "cell_type": "code",
      "metadata": {
        "id": "K68umXcVnWEn"
      },
      "source": [
        ""
      ],
      "execution_count": null,
      "outputs": []
    },
    {
      "cell_type": "code",
      "metadata": {
        "id": "fCdGZ1hFuz9U",
        "outputId": "09b61d7f-d189-457f-8088-6f6324f5d498",
        "colab": {
          "base_uri": "https://localhost:8080/",
          "height": 496
        }
      },
      "source": [
        "from sklearn.metrics import confusion_matrix\n",
        "import itertools\n",
        "import numpy as np\n",
        "\n",
        "def plot_confusion_matrix(cm, classes, normalize= False,title='Confusion Matrix', cmap = plt.cm.Blues): \n",
        "  if normalize:\n",
        "    cm = cm.astype('float')/ cm.sum(axis=1)[:, np.newaxis]\n",
        "    print('Normalized confusion matrix')\n",
        "  else:\n",
        "    print('Not Normalized confusion matrix')\n",
        "  print(cm)\n",
        "  plt.imshow(cm, interpolation='nearest',cmap=cmap)\n",
        "  plt.title(title)\n",
        "  plt.colorbar()\n",
        "  tick_marks =np.arange(len(classes))\n",
        "  plt.xticks(tick_marks, classes, rotation='45')\n",
        "  plt.yticks(tick_marks, classes)\n",
        "  fmt = '.2f' if normalize else 'd'\n",
        "  thresh = cm.max() / 2.\n",
        "  for i, j in itertools.product(range(cm.shape[0]), range(cm.shape[1])):\n",
        "    plt.text( j, i, format(cm[i,j], fmt),\n",
        "             horizontalalignment=\"center\",\n",
        "            color = \"white\" if cm[i, j] > thresh else \"black\")\n",
        "  plt.tight_layout()\n",
        "  plt.ylabel('Ture value')\n",
        "  plt.xlabel('predicted value')\n",
        "  plt.show()\n",
        "\n",
        "p_test = model.predict(x_test).argmax(axis=1)\n",
        "cm = confusion_matrix(y_test, p_test)\n",
        "plot_confusion_matrix(cm, list(range(10)))"
      ],
      "execution_count": 18,
      "outputs": [
        {
          "output_type": "stream",
          "text": [
            "Not Normalized confusion matrix\n",
            "[[868   2  29  26   4   0  64   0   7   0]\n",
            " [  2 975   1  15   4   0   3   0   0   0]\n",
            " [ 14   1 883  11  44   0  46   0   1   0]\n",
            " [ 12   8  17 919  26   0  17   0   1   0]\n",
            " [  1   0  76  32 841   0  49   0   1   0]\n",
            " [  0   0   0   3   0 950   0  37   0  10]\n",
            " [156   2  71  28 121   0 616   0   6   0]\n",
            " [  0   0   0   0   0   6   0 953   0  41]\n",
            " [  5   0   5   4   6   1   3   2 974   0]\n",
            " [  1   0   0   0   0   4   0  28   0 967]]\n"
          ],
          "name": "stdout"
        },
        {
          "output_type": "display_data",
          "data": {
            "image/png": "[encoded data removed]",
            "text/plain": [
              "<Figure size 432x288 with 2 Axes>"
            ]
          },
          "metadata": {
            "tags": [],
            "needs_background": "light"
          }
        }
      ]
    },
    {
      "cell_type": "code",
      "metadata": {
        "id": "BSJnl8OopfVb"
      },
      "source": [
        "labels='''T-shirt/top\n",
        "Trouser\n",
        "Pullover\n",
        "Dress\n",
        "Coat\n",
        "Sandal\n",
        "Shirt\n",
        "Sneaker\n",
        "Bag\n",
        "Ankle Boot'''.split()"
      ],
      "execution_count": 21,
      "outputs": []
    },
    {
      "cell_type": "code",
      "metadata": {
        "id": "Zol2RaAiqcPn",
        "outputId": "c58e312d-a4d9-41b9-a354-632f1da50abf",
        "colab": {
          "base_uri": "https://localhost:8080/",
          "height": 281
        }
      },
      "source": [
        "misclassfied_idx = np.where( p_test != y_test)[0]\n",
        "i= np.random.choice(misclassfied_idx)\n",
        "plt.imshow(x_test[i].reshape(28,28), cmap='gray')\n",
        "plt.title(\"True label: %s Predicted label: %s\" % (y_test[i], p_test[i])) ; "
      ],
      "execution_count": 25,
      "outputs": [
        {
          "output_type": "display_data",
          "data": {
            "image/png": "[encoded data removed]",
            "text/plain": [
              "<Figure size 432x288 with 1 Axes>"
            ]
          },
          "metadata": {
            "tags": [],
            "needs_background": "light"
          }
        }
      ]
    }
  ]
}